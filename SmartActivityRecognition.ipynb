{
  "nbformat": 4,
  "nbformat_minor": 0,
  "metadata": {
    "colab": {
      "provenance": [],
      "gpuType": "T4"
    },
    "kernelspec": {
      "name": "python3",
      "display_name": "Python 3"
    },
    "language_info": {
      "name": "python"
    },
    "accelerator": "GPU"
  },
  "cells": [
    {
      "cell_type": "code",
      "source": [
        "#from google.colab import drive\n",
        "#drive.mount('/content/drive')"
      ],
      "metadata": {
        "id": "NMMtHKUjF8d9"
      },
      "execution_count": null,
      "outputs": []
    },
    {
      "cell_type": "code",
      "source": [
        "# !unzip -u \"/content/adlmr.zip\" -d \"/content/drive/MyDrive/dataDL\""
      ],
      "metadata": {
        "id": "X4OkdWW9GnSI"
      },
      "execution_count": null,
      "outputs": []
    },
    {
      "cell_type": "code",
      "source": [
        "import pandas as pd\n",
        "import numpy as np\n",
        "import os\n",
        "import matplotlib.pyplot as plt\n",
        "import torch\n",
        "import torch.nn as nn\n",
        "import torch.optim as optim\n",
        "from sklearn.metrics import f1_score\n",
        "from sklearn.model_selection import train_test_split\n",
        "import random\n",
        "\n",
        "\n",
        "folder_path = '/content/drive/MyDrive/dataDL/adlmr' # Path to dataset\n",
        "\n",
        "data = []  # List to store the data\n",
        "colnames  = ['Date', 'Time', 'SensorID', 'Value', 'ResidentID1', 'TaskID1','ResidentID2', 'TaskID2','ResidentID3', 'TaskID3']\n",
        "\n",
        "# Iterate through files in the folder\n",
        "for filename in os.listdir(folder_path):\n",
        "    file_path = os.path.join(folder_path, filename)  # Get the full path of the file\n",
        "    if os.path.isfile(file_path):  # Check if it's a file (not a directory)\n",
        "        df = pd.read_csv(file_path, delimiter=r\"\\s+\", lineterminator='\\r', names=colnames)\n",
        "        data.append(df)\n",
        "\n",
        "# Concatenate all DataFrames into a single DataFrame\n",
        "combined_df = pd.concat(data, ignore_index=True)"
      ],
      "metadata": {
        "id": "uPWTV3L9Khc5"
      },
      "execution_count": null,
      "outputs": []
    },
    {
      "cell_type": "code",
      "source": [
        "\"\"\"la description de la base de données indique qu'on peut avoir plusieurs personnes entrain de faire une tache en meme temps,\n",
        "une valeur aberrante se produit lorsque 3 personnes la font,\n",
        " nous choisirons de supprimer cette ligne car\n",
        " elle ajoute une complexite de calcul trop grande pour la probabilite qu'elle represente c-a-d: 1/17230\n",
        "\"\"\"\n",
        "\n",
        "combined_df[~combined_df['ResidentID3'].isna()]"
      ],
      "metadata": {
        "colab": {
          "base_uri": "https://localhost:8080/",
          "height": 81
        },
        "id": "2ai-8vPoNgmw",
        "outputId": "769e42ce-3e61-48f2-f9ea-f9791a43609d"
      },
      "execution_count": null,
      "outputs": [
        {
          "output_type": "execute_result",
          "data": {
            "text/plain": [
              "               Date             Time SensorID Value ResidentID1  TaskID1  \\\n",
              "16441  \\n2008-11-12  14:59:41.115119      M14    ON           2     13.0   \n",
              "\n",
              "       ResidentID2  TaskID2  ResidentID3  TaskID3  \n",
              "16441          1.0     13.0          1.0     13.0  "
            ],
            "text/html": [
              "\n",
              "  <div id=\"df-9554c9db-26e6-4a2d-8c05-17cac8f10e93\">\n",
              "    <div class=\"colab-df-container\">\n",
              "      <div>\n",
              "<style scoped>\n",
              "    .dataframe tbody tr th:only-of-type {\n",
              "        vertical-align: middle;\n",
              "    }\n",
              "\n",
              "    .dataframe tbody tr th {\n",
              "        vertical-align: top;\n",
              "    }\n",
              "\n",
              "    .dataframe thead th {\n",
              "        text-align: right;\n",
              "    }\n",
              "</style>\n",
              "<table border=\"1\" class=\"dataframe\">\n",
              "  <thead>\n",
              "    <tr style=\"text-align: right;\">\n",
              "      <th></th>\n",
              "      <th>Date</th>\n",
              "      <th>Time</th>\n",
              "      <th>SensorID</th>\n",
              "      <th>Value</th>\n",
              "      <th>ResidentID1</th>\n",
              "      <th>TaskID1</th>\n",
              "      <th>ResidentID2</th>\n",
              "      <th>TaskID2</th>\n",
              "      <th>ResidentID3</th>\n",
              "      <th>TaskID3</th>\n",
              "    </tr>\n",
              "  </thead>\n",
              "  <tbody>\n",
              "    <tr>\n",
              "      <th>16441</th>\n",
              "      <td>\\n2008-11-12</td>\n",
              "      <td>14:59:41.115119</td>\n",
              "      <td>M14</td>\n",
              "      <td>ON</td>\n",
              "      <td>2</td>\n",
              "      <td>13.0</td>\n",
              "      <td>1.0</td>\n",
              "      <td>13.0</td>\n",
              "      <td>1.0</td>\n",
              "      <td>13.0</td>\n",
              "    </tr>\n",
              "  </tbody>\n",
              "</table>\n",
              "</div>\n",
              "      <button class=\"colab-df-convert\" onclick=\"convertToInteractive('df-9554c9db-26e6-4a2d-8c05-17cac8f10e93')\"\n",
              "              title=\"Convert this dataframe to an interactive table.\"\n",
              "              style=\"display:none;\">\n",
              "        \n",
              "  <svg xmlns=\"http://www.w3.org/2000/svg\" height=\"24px\"viewBox=\"0 0 24 24\"\n",
              "       width=\"24px\">\n",
              "    <path d=\"M0 0h24v24H0V0z\" fill=\"none\"/>\n",
              "    <path d=\"M18.56 5.44l.94 2.06.94-2.06 2.06-.94-2.06-.94-.94-2.06-.94 2.06-2.06.94zm-11 1L8.5 8.5l.94-2.06 2.06-.94-2.06-.94L8.5 2.5l-.94 2.06-2.06.94zm10 10l.94 2.06.94-2.06 2.06-.94-2.06-.94-.94-2.06-.94 2.06-2.06.94z\"/><path d=\"M17.41 7.96l-1.37-1.37c-.4-.4-.92-.59-1.43-.59-.52 0-1.04.2-1.43.59L10.3 9.45l-7.72 7.72c-.78.78-.78 2.05 0 2.83L4 21.41c.39.39.9.59 1.41.59.51 0 1.02-.2 1.41-.59l7.78-7.78 2.81-2.81c.8-.78.8-2.07 0-2.86zM5.41 20L4 18.59l7.72-7.72 1.47 1.35L5.41 20z\"/>\n",
              "  </svg>\n",
              "      </button>\n",
              "      \n",
              "  <style>\n",
              "    .colab-df-container {\n",
              "      display:flex;\n",
              "      flex-wrap:wrap;\n",
              "      gap: 12px;\n",
              "    }\n",
              "\n",
              "    .colab-df-convert {\n",
              "      background-color: #E8F0FE;\n",
              "      border: none;\n",
              "      border-radius: 50%;\n",
              "      cursor: pointer;\n",
              "      display: none;\n",
              "      fill: #1967D2;\n",
              "      height: 32px;\n",
              "      padding: 0 0 0 0;\n",
              "      width: 32px;\n",
              "    }\n",
              "\n",
              "    .colab-df-convert:hover {\n",
              "      background-color: #E2EBFA;\n",
              "      box-shadow: 0px 1px 2px rgba(60, 64, 67, 0.3), 0px 1px 3px 1px rgba(60, 64, 67, 0.15);\n",
              "      fill: #174EA6;\n",
              "    }\n",
              "\n",
              "    [theme=dark] .colab-df-convert {\n",
              "      background-color: #3B4455;\n",
              "      fill: #D2E3FC;\n",
              "    }\n",
              "\n",
              "    [theme=dark] .colab-df-convert:hover {\n",
              "      background-color: #434B5C;\n",
              "      box-shadow: 0px 1px 3px 1px rgba(0, 0, 0, 0.15);\n",
              "      filter: drop-shadow(0px 1px 2px rgba(0, 0, 0, 0.3));\n",
              "      fill: #FFFFFF;\n",
              "    }\n",
              "  </style>\n",
              "\n",
              "      <script>\n",
              "        const buttonEl =\n",
              "          document.querySelector('#df-9554c9db-26e6-4a2d-8c05-17cac8f10e93 button.colab-df-convert');\n",
              "        buttonEl.style.display =\n",
              "          google.colab.kernel.accessAllowed ? 'block' : 'none';\n",
              "\n",
              "        async function convertToInteractive(key) {\n",
              "          const element = document.querySelector('#df-9554c9db-26e6-4a2d-8c05-17cac8f10e93');\n",
              "          const dataTable =\n",
              "            await google.colab.kernel.invokeFunction('convertToInteractive',\n",
              "                                                     [key], {});\n",
              "          if (!dataTable) return;\n",
              "\n",
              "          const docLinkHtml = 'Like what you see? Visit the ' +\n",
              "            '<a target=\"_blank\" href=https://colab.research.google.com/notebooks/data_table.ipynb>data table notebook</a>'\n",
              "            + ' to learn more about interactive tables.';\n",
              "          element.innerHTML = '';\n",
              "          dataTable['output_type'] = 'display_data';\n",
              "          await google.colab.output.renderOutput(dataTable, element);\n",
              "          const docLink = document.createElement('div');\n",
              "          docLink.innerHTML = docLinkHtml;\n",
              "          element.appendChild(docLink);\n",
              "        }\n",
              "      </script>\n",
              "    </div>\n",
              "  </div>\n",
              "  "
            ]
          },
          "metadata": {},
          "execution_count": 75
        }
      ]
    },
    {
      "cell_type": "code",
      "source": [
        "# eliminer la ligne ou les valeurs ResidentID3 et TaskID3 existent\n",
        "\n",
        "combined_df = combined_df[combined_df['ResidentID3'].isna()]\n",
        "\n",
        "# maintent nous pouvons eliminer les columns ResidentID3 et TaskID3\n",
        "\n",
        "columns_to_drop = ['ResidentID3', 'TaskID3']\n",
        "combined_df.drop(columns_to_drop, axis=1, inplace=True)"
      ],
      "metadata": {
        "id": "2Uy_ac6LPDoM"
      },
      "execution_count": null,
      "outputs": []
    },
    {
      "cell_type": "code",
      "source": [
        "# Supprimer les caractères de saut de ligne (\"\\n\") de la colonne 'Date'\n",
        "combined_df.loc[:, 'Date'] = combined_df['Date'].apply(lambda x: x.replace('\\n', ''))\n",
        "#Convert the 'Time' column to datetime and crop microseconds\n",
        "combined_df.loc[:,'Time'] = pd.to_datetime(combined_df['Time']+'00', format='%H:%M:%S.%f',errors='ignore')\n",
        "# Convert the 'Time' column to datetime, setting invalid values to NaT\n",
        "combined_df['Time'] = pd.to_datetime(combined_df['Time'], format='%H:%M:%S.%f', errors='coerce')\n",
        "# Drop rows with NaN values in the 'Time' column\n",
        "combined_df.dropna(subset=['Time'], inplace=True)\n",
        "# Convert the 'Date' column to datetime, setting invalid values to NaT\n",
        "combined_df['Date'] = pd.to_datetime(combined_df['Date'], format='%Y-%m-%d', errors='coerce')\n",
        "\n",
        "# Drop rows with NaN values in the 'Time' column\n",
        "combined_df.dropna(subset=['Date'], inplace=True)\n",
        "\n",
        "# Join 'Date' and 'Time' columns into a new column 'DateTime' to gain compute time and reduce dimensionality\n",
        "combined_df['DateTime'] = combined_df['Date'].dt.strftime('%Y-%m-%d') + ' ' + combined_df['Time'].dt.strftime('%H:%M:%S.%f')\n",
        "\n",
        "# Drop the original 'Date' and 'Time' columns if desired\n",
        "combined_df.drop(['Date', 'Time'], axis=1,inplace=True)"
      ],
      "metadata": {
        "id": "_6GNgrymqiMY"
      },
      "execution_count": null,
      "outputs": []
    },
    {
      "cell_type": "code",
      "source": [
        "# Define the list of values to filter because the only valid sensor ids according to description file of data are these:\n",
        "sensor_ids = ['D13', 'D14', 'D15']\n",
        "\n",
        "# Filter the DataFrame based on the 'SensorId' column values\n",
        "combined_df = combined_df[~combined_df['SensorID'].isin(sensor_ids)]"
      ],
      "metadata": {
        "id": "qmIaxGJmdwnW"
      },
      "execution_count": null,
      "outputs": []
    },
    {
      "cell_type": "code",
      "source": [
        "# transform to numerical values because certain values a string format\n",
        "combined_df.loc[:,'ResidentID1'] = pd.to_numeric(combined_df['ResidentID1'], errors='coerce')\n",
        "# Removing the incoherent value from the ResidentID1\n",
        "combined_df = combined_df[~combined_df['ResidentID1'].isin([211])]\n",
        "# removing rows where ResidentID1 is null\n",
        "combined_df = combined_df[~combined_df['ResidentID1'].isna()]"
      ],
      "metadata": {
        "id": "VB5Jv9C0giTT",
        "colab": {
          "base_uri": "https://localhost:8080/"
        },
        "outputId": "687e73f6-e89d-465d-8dfe-db411ffa7680"
      },
      "execution_count": null,
      "outputs": [
        {
          "output_type": "stream",
          "name": "stderr",
          "text": [
            "<ipython-input-79-0c6e5b4e67e6>:2: SettingWithCopyWarning: \n",
            "A value is trying to be set on a copy of a slice from a DataFrame.\n",
            "Try using .loc[row_indexer,col_indexer] = value instead\n",
            "\n",
            "See the caveats in the documentation: https://pandas.pydata.org/pandas-docs/stable/user_guide/indexing.html#returning-a-view-versus-a-copy\n",
            "  combined_df.loc[:,'ResidentID1'] = pd.to_numeric(combined_df['ResidentID1'], errors='coerce')\n",
            "<ipython-input-79-0c6e5b4e67e6>:2: DeprecationWarning: In a future version, `df.iloc[:, i] = newvals` will attempt to set the values inplace instead of always setting a new array. To retain the old behavior, use either `df[df.columns[i]] = newvals` or, if columns are non-unique, `df.isetitem(i, newvals)`\n",
            "  combined_df.loc[:,'ResidentID1'] = pd.to_numeric(combined_df['ResidentID1'], errors='coerce')\n"
          ]
        }
      ]
    },
    {
      "cell_type": "code",
      "source": [
        "combined_df.describe()"
      ],
      "metadata": {
        "colab": {
          "base_uri": "https://localhost:8080/",
          "height": 300
        },
        "id": "LWGJIg2VtScX",
        "outputId": "6091c35a-21fd-4b97-de84-c66ccabc5eed"
      },
      "execution_count": null,
      "outputs": [
        {
          "output_type": "execute_result",
          "data": {
            "text/plain": [
              "        ResidentID1       TaskID1  ResidentID2      TaskID2\n",
              "count  17018.000000  17018.000000  2907.000000  2907.000000\n",
              "mean       1.509226      8.191973     1.591675    11.986240\n",
              "std        0.499930      4.382367     0.491608     2.884055\n",
              "min        1.000000      1.000000     1.000000     1.000000\n",
              "25%        1.000000      4.000000     1.000000    11.000000\n",
              "50%        2.000000      8.000000     2.000000    13.000000\n",
              "75%        2.000000     12.000000     2.000000    14.000000\n",
              "max        2.000000     15.000000     2.000000    15.000000"
            ],
            "text/html": [
              "\n",
              "  <div id=\"df-dd706287-bc33-4741-9d85-f140e0410d25\">\n",
              "    <div class=\"colab-df-container\">\n",
              "      <div>\n",
              "<style scoped>\n",
              "    .dataframe tbody tr th:only-of-type {\n",
              "        vertical-align: middle;\n",
              "    }\n",
              "\n",
              "    .dataframe tbody tr th {\n",
              "        vertical-align: top;\n",
              "    }\n",
              "\n",
              "    .dataframe thead th {\n",
              "        text-align: right;\n",
              "    }\n",
              "</style>\n",
              "<table border=\"1\" class=\"dataframe\">\n",
              "  <thead>\n",
              "    <tr style=\"text-align: right;\">\n",
              "      <th></th>\n",
              "      <th>ResidentID1</th>\n",
              "      <th>TaskID1</th>\n",
              "      <th>ResidentID2</th>\n",
              "      <th>TaskID2</th>\n",
              "    </tr>\n",
              "  </thead>\n",
              "  <tbody>\n",
              "    <tr>\n",
              "      <th>count</th>\n",
              "      <td>17018.000000</td>\n",
              "      <td>17018.000000</td>\n",
              "      <td>2907.000000</td>\n",
              "      <td>2907.000000</td>\n",
              "    </tr>\n",
              "    <tr>\n",
              "      <th>mean</th>\n",
              "      <td>1.509226</td>\n",
              "      <td>8.191973</td>\n",
              "      <td>1.591675</td>\n",
              "      <td>11.986240</td>\n",
              "    </tr>\n",
              "    <tr>\n",
              "      <th>std</th>\n",
              "      <td>0.499930</td>\n",
              "      <td>4.382367</td>\n",
              "      <td>0.491608</td>\n",
              "      <td>2.884055</td>\n",
              "    </tr>\n",
              "    <tr>\n",
              "      <th>min</th>\n",
              "      <td>1.000000</td>\n",
              "      <td>1.000000</td>\n",
              "      <td>1.000000</td>\n",
              "      <td>1.000000</td>\n",
              "    </tr>\n",
              "    <tr>\n",
              "      <th>25%</th>\n",
              "      <td>1.000000</td>\n",
              "      <td>4.000000</td>\n",
              "      <td>1.000000</td>\n",
              "      <td>11.000000</td>\n",
              "    </tr>\n",
              "    <tr>\n",
              "      <th>50%</th>\n",
              "      <td>2.000000</td>\n",
              "      <td>8.000000</td>\n",
              "      <td>2.000000</td>\n",
              "      <td>13.000000</td>\n",
              "    </tr>\n",
              "    <tr>\n",
              "      <th>75%</th>\n",
              "      <td>2.000000</td>\n",
              "      <td>12.000000</td>\n",
              "      <td>2.000000</td>\n",
              "      <td>14.000000</td>\n",
              "    </tr>\n",
              "    <tr>\n",
              "      <th>max</th>\n",
              "      <td>2.000000</td>\n",
              "      <td>15.000000</td>\n",
              "      <td>2.000000</td>\n",
              "      <td>15.000000</td>\n",
              "    </tr>\n",
              "  </tbody>\n",
              "</table>\n",
              "</div>\n",
              "      <button class=\"colab-df-convert\" onclick=\"convertToInteractive('df-dd706287-bc33-4741-9d85-f140e0410d25')\"\n",
              "              title=\"Convert this dataframe to an interactive table.\"\n",
              "              style=\"display:none;\">\n",
              "        \n",
              "  <svg xmlns=\"http://www.w3.org/2000/svg\" height=\"24px\"viewBox=\"0 0 24 24\"\n",
              "       width=\"24px\">\n",
              "    <path d=\"M0 0h24v24H0V0z\" fill=\"none\"/>\n",
              "    <path d=\"M18.56 5.44l.94 2.06.94-2.06 2.06-.94-2.06-.94-.94-2.06-.94 2.06-2.06.94zm-11 1L8.5 8.5l.94-2.06 2.06-.94-2.06-.94L8.5 2.5l-.94 2.06-2.06.94zm10 10l.94 2.06.94-2.06 2.06-.94-2.06-.94-.94-2.06-.94 2.06-2.06.94z\"/><path d=\"M17.41 7.96l-1.37-1.37c-.4-.4-.92-.59-1.43-.59-.52 0-1.04.2-1.43.59L10.3 9.45l-7.72 7.72c-.78.78-.78 2.05 0 2.83L4 21.41c.39.39.9.59 1.41.59.51 0 1.02-.2 1.41-.59l7.78-7.78 2.81-2.81c.8-.78.8-2.07 0-2.86zM5.41 20L4 18.59l7.72-7.72 1.47 1.35L5.41 20z\"/>\n",
              "  </svg>\n",
              "      </button>\n",
              "      \n",
              "  <style>\n",
              "    .colab-df-container {\n",
              "      display:flex;\n",
              "      flex-wrap:wrap;\n",
              "      gap: 12px;\n",
              "    }\n",
              "\n",
              "    .colab-df-convert {\n",
              "      background-color: #E8F0FE;\n",
              "      border: none;\n",
              "      border-radius: 50%;\n",
              "      cursor: pointer;\n",
              "      display: none;\n",
              "      fill: #1967D2;\n",
              "      height: 32px;\n",
              "      padding: 0 0 0 0;\n",
              "      width: 32px;\n",
              "    }\n",
              "\n",
              "    .colab-df-convert:hover {\n",
              "      background-color: #E2EBFA;\n",
              "      box-shadow: 0px 1px 2px rgba(60, 64, 67, 0.3), 0px 1px 3px 1px rgba(60, 64, 67, 0.15);\n",
              "      fill: #174EA6;\n",
              "    }\n",
              "\n",
              "    [theme=dark] .colab-df-convert {\n",
              "      background-color: #3B4455;\n",
              "      fill: #D2E3FC;\n",
              "    }\n",
              "\n",
              "    [theme=dark] .colab-df-convert:hover {\n",
              "      background-color: #434B5C;\n",
              "      box-shadow: 0px 1px 3px 1px rgba(0, 0, 0, 0.15);\n",
              "      filter: drop-shadow(0px 1px 2px rgba(0, 0, 0, 0.3));\n",
              "      fill: #FFFFFF;\n",
              "    }\n",
              "  </style>\n",
              "\n",
              "      <script>\n",
              "        const buttonEl =\n",
              "          document.querySelector('#df-dd706287-bc33-4741-9d85-f140e0410d25 button.colab-df-convert');\n",
              "        buttonEl.style.display =\n",
              "          google.colab.kernel.accessAllowed ? 'block' : 'none';\n",
              "\n",
              "        async function convertToInteractive(key) {\n",
              "          const element = document.querySelector('#df-dd706287-bc33-4741-9d85-f140e0410d25');\n",
              "          const dataTable =\n",
              "            await google.colab.kernel.invokeFunction('convertToInteractive',\n",
              "                                                     [key], {});\n",
              "          if (!dataTable) return;\n",
              "\n",
              "          const docLinkHtml = 'Like what you see? Visit the ' +\n",
              "            '<a target=\"_blank\" href=https://colab.research.google.com/notebooks/data_table.ipynb>data table notebook</a>'\n",
              "            + ' to learn more about interactive tables.';\n",
              "          element.innerHTML = '';\n",
              "          dataTable['output_type'] = 'display_data';\n",
              "          await google.colab.output.renderOutput(dataTable, element);\n",
              "          const docLink = document.createElement('div');\n",
              "          docLink.innerHTML = docLinkHtml;\n",
              "          element.appendChild(docLink);\n",
              "        }\n",
              "      </script>\n",
              "    </div>\n",
              "  </div>\n",
              "  "
            ]
          },
          "metadata": {},
          "execution_count": 80
        }
      ]
    },
    {
      "cell_type": "code",
      "source": [
        "# taches faites par Person A: avec ResidentID = 1 selon la description:\n",
        "person_a_tasks  = [1,3,5,7,8,10,11,12,13,15]\n",
        "# taches faites par Person B: avec ResidentID = 2  selon la description:\n",
        "person_b_tasks  = [2,3,4,6,7,9,11,13,14]"
      ],
      "metadata": {
        "id": "fWzn_9qUrZtN"
      },
      "execution_count": null,
      "outputs": []
    },
    {
      "cell_type": "code",
      "source": [
        "# Create a mask for the conditions\n",
        "mask = (\n",
        "    (((combined_df['ResidentID1'] == 1) & ~combined_df['TaskID1'].isin(person_a_tasks)) &\n",
        "    ((combined_df['ResidentID1'] == 2) & ~combined_df['TaskID1'].isin(person_b_tasks)))\n",
        "    |\n",
        "     (((combined_df['ResidentID2'] == 1) & ~combined_df['TaskID2'].isin(person_a_tasks)) &\n",
        "    ((combined_df['ResidentID2'] == 2) & ~combined_df['TaskID2'].isin(person_b_tasks)))\n",
        ")\n",
        "\n",
        "# Replace values that do not match the conditions with null values\n",
        "combined_df[['ResidentID1', 'TaskID1','ResidentID2', 'TaskID2']] = combined_df[['ResidentID1', 'TaskID1','ResidentID2', 'TaskID2']].mask(mask, np.nan)\n"
      ],
      "metadata": {
        "id": "jZu9EuWE9QUQ"
      },
      "execution_count": null,
      "outputs": []
    },
    {
      "cell_type": "code",
      "source": [
        "# Set ResidentID2 to null if TaskID2 is null and vice versa\n",
        "combined_df.loc[combined_df['TaskID2'].isnull(), 'ResidentID2'] = np.nan\n",
        "combined_df.loc[combined_df['ResidentID2'].isnull(), 'TaskID2'] = np.nan\n",
        "\n",
        "# Set ResidentID1 to null if TaskID1 is null and vice versa\n",
        "combined_df.loc[combined_df['TaskID1'].isnull(), 'ResidentID1'] = np.nan\n",
        "combined_df.loc[combined_df['ResidentID1'].isnull(), 'TaskID1'] = np.nan"
      ],
      "metadata": {
        "id": "GegUQ830xp7a"
      },
      "execution_count": null,
      "outputs": []
    },
    {
      "cell_type": "code",
      "source": [
        "combined_df = combined_df.dropna(subset=['ResidentID1', 'TaskID1', 'ResidentID2', 'TaskID2'], how='all')"
      ],
      "metadata": {
        "id": "jaJpZwT_yFjA"
      },
      "execution_count": null,
      "outputs": []
    },
    {
      "cell_type": "code",
      "source": [
        "combined_df.head(5)"
      ],
      "metadata": {
        "colab": {
          "base_uri": "https://localhost:8080/",
          "height": 206
        },
        "id": "6X-5uKYqyGyk",
        "outputId": "00e915f3-eee1-4712-8403-b6e1bd25fce9"
      },
      "execution_count": null,
      "outputs": [
        {
          "output_type": "execute_result",
          "data": {
            "text/plain": [
              "  SensorID Value  ResidentID1  TaskID1  ResidentID2  TaskID2  \\\n",
              "0      M02    ON          2.0      2.0          NaN      NaN   \n",
              "1      M05    ON          2.0      2.0          NaN      NaN   \n",
              "2      M02   OFF          2.0      2.0          NaN      NaN   \n",
              "3      M16    ON          1.0      1.0          NaN      NaN   \n",
              "4      M15    ON          1.0      1.0          NaN      NaN   \n",
              "\n",
              "                     DateTime  \n",
              "0  2008-12-10 14:26:52.207880  \n",
              "1  2008-12-10 14:26:52.690700  \n",
              "2  2008-12-10 14:26:55.291239  \n",
              "3  2008-12-10 14:26:57.219990  \n",
              "4  2008-12-10 14:26:57.601710  "
            ],
            "text/html": [
              "\n",
              "  <div id=\"df-36ec5e0d-612a-46da-bc07-12ef60f93dd7\">\n",
              "    <div class=\"colab-df-container\">\n",
              "      <div>\n",
              "<style scoped>\n",
              "    .dataframe tbody tr th:only-of-type {\n",
              "        vertical-align: middle;\n",
              "    }\n",
              "\n",
              "    .dataframe tbody tr th {\n",
              "        vertical-align: top;\n",
              "    }\n",
              "\n",
              "    .dataframe thead th {\n",
              "        text-align: right;\n",
              "    }\n",
              "</style>\n",
              "<table border=\"1\" class=\"dataframe\">\n",
              "  <thead>\n",
              "    <tr style=\"text-align: right;\">\n",
              "      <th></th>\n",
              "      <th>SensorID</th>\n",
              "      <th>Value</th>\n",
              "      <th>ResidentID1</th>\n",
              "      <th>TaskID1</th>\n",
              "      <th>ResidentID2</th>\n",
              "      <th>TaskID2</th>\n",
              "      <th>DateTime</th>\n",
              "    </tr>\n",
              "  </thead>\n",
              "  <tbody>\n",
              "    <tr>\n",
              "      <th>0</th>\n",
              "      <td>M02</td>\n",
              "      <td>ON</td>\n",
              "      <td>2.0</td>\n",
              "      <td>2.0</td>\n",
              "      <td>NaN</td>\n",
              "      <td>NaN</td>\n",
              "      <td>2008-12-10 14:26:52.207880</td>\n",
              "    </tr>\n",
              "    <tr>\n",
              "      <th>1</th>\n",
              "      <td>M05</td>\n",
              "      <td>ON</td>\n",
              "      <td>2.0</td>\n",
              "      <td>2.0</td>\n",
              "      <td>NaN</td>\n",
              "      <td>NaN</td>\n",
              "      <td>2008-12-10 14:26:52.690700</td>\n",
              "    </tr>\n",
              "    <tr>\n",
              "      <th>2</th>\n",
              "      <td>M02</td>\n",
              "      <td>OFF</td>\n",
              "      <td>2.0</td>\n",
              "      <td>2.0</td>\n",
              "      <td>NaN</td>\n",
              "      <td>NaN</td>\n",
              "      <td>2008-12-10 14:26:55.291239</td>\n",
              "    </tr>\n",
              "    <tr>\n",
              "      <th>3</th>\n",
              "      <td>M16</td>\n",
              "      <td>ON</td>\n",
              "      <td>1.0</td>\n",
              "      <td>1.0</td>\n",
              "      <td>NaN</td>\n",
              "      <td>NaN</td>\n",
              "      <td>2008-12-10 14:26:57.219990</td>\n",
              "    </tr>\n",
              "    <tr>\n",
              "      <th>4</th>\n",
              "      <td>M15</td>\n",
              "      <td>ON</td>\n",
              "      <td>1.0</td>\n",
              "      <td>1.0</td>\n",
              "      <td>NaN</td>\n",
              "      <td>NaN</td>\n",
              "      <td>2008-12-10 14:26:57.601710</td>\n",
              "    </tr>\n",
              "  </tbody>\n",
              "</table>\n",
              "</div>\n",
              "      <button class=\"colab-df-convert\" onclick=\"convertToInteractive('df-36ec5e0d-612a-46da-bc07-12ef60f93dd7')\"\n",
              "              title=\"Convert this dataframe to an interactive table.\"\n",
              "              style=\"display:none;\">\n",
              "        \n",
              "  <svg xmlns=\"http://www.w3.org/2000/svg\" height=\"24px\"viewBox=\"0 0 24 24\"\n",
              "       width=\"24px\">\n",
              "    <path d=\"M0 0h24v24H0V0z\" fill=\"none\"/>\n",
              "    <path d=\"M18.56 5.44l.94 2.06.94-2.06 2.06-.94-2.06-.94-.94-2.06-.94 2.06-2.06.94zm-11 1L8.5 8.5l.94-2.06 2.06-.94-2.06-.94L8.5 2.5l-.94 2.06-2.06.94zm10 10l.94 2.06.94-2.06 2.06-.94-2.06-.94-.94-2.06-.94 2.06-2.06.94z\"/><path d=\"M17.41 7.96l-1.37-1.37c-.4-.4-.92-.59-1.43-.59-.52 0-1.04.2-1.43.59L10.3 9.45l-7.72 7.72c-.78.78-.78 2.05 0 2.83L4 21.41c.39.39.9.59 1.41.59.51 0 1.02-.2 1.41-.59l7.78-7.78 2.81-2.81c.8-.78.8-2.07 0-2.86zM5.41 20L4 18.59l7.72-7.72 1.47 1.35L5.41 20z\"/>\n",
              "  </svg>\n",
              "      </button>\n",
              "      \n",
              "  <style>\n",
              "    .colab-df-container {\n",
              "      display:flex;\n",
              "      flex-wrap:wrap;\n",
              "      gap: 12px;\n",
              "    }\n",
              "\n",
              "    .colab-df-convert {\n",
              "      background-color: #E8F0FE;\n",
              "      border: none;\n",
              "      border-radius: 50%;\n",
              "      cursor: pointer;\n",
              "      display: none;\n",
              "      fill: #1967D2;\n",
              "      height: 32px;\n",
              "      padding: 0 0 0 0;\n",
              "      width: 32px;\n",
              "    }\n",
              "\n",
              "    .colab-df-convert:hover {\n",
              "      background-color: #E2EBFA;\n",
              "      box-shadow: 0px 1px 2px rgba(60, 64, 67, 0.3), 0px 1px 3px 1px rgba(60, 64, 67, 0.15);\n",
              "      fill: #174EA6;\n",
              "    }\n",
              "\n",
              "    [theme=dark] .colab-df-convert {\n",
              "      background-color: #3B4455;\n",
              "      fill: #D2E3FC;\n",
              "    }\n",
              "\n",
              "    [theme=dark] .colab-df-convert:hover {\n",
              "      background-color: #434B5C;\n",
              "      box-shadow: 0px 1px 3px 1px rgba(0, 0, 0, 0.15);\n",
              "      filter: drop-shadow(0px 1px 2px rgba(0, 0, 0, 0.3));\n",
              "      fill: #FFFFFF;\n",
              "    }\n",
              "  </style>\n",
              "\n",
              "      <script>\n",
              "        const buttonEl =\n",
              "          document.querySelector('#df-36ec5e0d-612a-46da-bc07-12ef60f93dd7 button.colab-df-convert');\n",
              "        buttonEl.style.display =\n",
              "          google.colab.kernel.accessAllowed ? 'block' : 'none';\n",
              "\n",
              "        async function convertToInteractive(key) {\n",
              "          const element = document.querySelector('#df-36ec5e0d-612a-46da-bc07-12ef60f93dd7');\n",
              "          const dataTable =\n",
              "            await google.colab.kernel.invokeFunction('convertToInteractive',\n",
              "                                                     [key], {});\n",
              "          if (!dataTable) return;\n",
              "\n",
              "          const docLinkHtml = 'Like what you see? Visit the ' +\n",
              "            '<a target=\"_blank\" href=https://colab.research.google.com/notebooks/data_table.ipynb>data table notebook</a>'\n",
              "            + ' to learn more about interactive tables.';\n",
              "          element.innerHTML = '';\n",
              "          dataTable['output_type'] = 'display_data';\n",
              "          await google.colab.output.renderOutput(dataTable, element);\n",
              "          const docLink = document.createElement('div');\n",
              "          docLink.innerHTML = docLinkHtml;\n",
              "          element.appendChild(docLink);\n",
              "        }\n",
              "      </script>\n",
              "    </div>\n",
              "  </div>\n",
              "  "
            ]
          },
          "metadata": {},
          "execution_count": 91
        }
      ]
    },
    {
      "cell_type": "code",
      "source": [
        "# Il semble y'avoir une erreur de saisie avec l'une des valeurs du sensor de type D qui doit etre 'OPEN' plutot que 'OPENv'\n",
        "# correction :\n",
        "combined_df.loc[combined_df['SensorID'].str.startswith('D'), 'Value'] = combined_df.loc[combined_df['SensorID'].str.startswith('D'), 'Value'].replace('OPENv', 'OPEN')\n",
        "# Il semble y'avoir une erreur de saisie avec l'une des valeurs du sensor de type M qui doit etre 'OFF' plutot que 'OF'\n",
        "# correction:\n",
        "combined_df.loc[combined_df['SensorID'].str.startswith('M'), 'Value'] = combined_df.loc[combined_df['SensorID'].str.startswith('M'), 'Value'].replace('OF', 'OFF')"
      ],
      "metadata": {
        "id": "kCM-V5tlTzDn"
      },
      "execution_count": null,
      "outputs": []
    },
    {
      "cell_type": "code",
      "source": [
        "# convert the DateTime column to datetime object\n",
        "combined_df['DateTime'] = pd.to_datetime(combined_df['DateTime'])\n",
        "# sort the values according to the time\n",
        "combined_df.sort_values(by='DateTime', inplace = True)\n",
        "# reset the index because of deleted values\n",
        "combined_df.reset_index(drop=True,inplace=True)"
      ],
      "metadata": {
        "id": "LLVgEJczjyjC"
      },
      "execution_count": null,
      "outputs": []
    },
    {
      "cell_type": "code",
      "source": [
        "# There's clearly a cyclic nature in the recodings of data, our goal is to capture this while encoding\n",
        "combined_df.DateTime.dt.hour.plot()"
      ],
      "metadata": {
        "colab": {
          "base_uri": "https://localhost:8080/",
          "height": 447
        },
        "id": "9ea3tD_ylrBY",
        "outputId": "ca98256d-714e-497c-aeb1-547713a7a6ec"
      },
      "execution_count": null,
      "outputs": [
        {
          "output_type": "execute_result",
          "data": {
            "text/plain": [
              "<Axes: >"
            ]
          },
          "metadata": {},
          "execution_count": 11
        },
        {
          "output_type": "display_data",
          "data": {
            "text/plain": [
              "<Figure size 640x480 with 1 Axes>"
            ],
            "image/png": "[encoded data removed]"
          },
          "metadata": {}
        }
      ]
    },
    {
      "cell_type": "code",
      "source": [
        "combined_df['DateTime'].dt.year.unique()"
      ],
      "metadata": {
        "colab": {
          "base_uri": "https://localhost:8080/"
        },
        "id": "QEg3Hs1eNOK0",
        "outputId": "cf723986-f297-435b-8d55-ec96fef34f18"
      },
      "execution_count": null,
      "outputs": [
        {
          "output_type": "execute_result",
          "data": {
            "text/plain": [
              "array([2008])"
            ]
          },
          "metadata": {},
          "execution_count": 12
        }
      ]
    },
    {
      "cell_type": "code",
      "source": [
        "# pas besoin de l'année vu que toutes les données sont de 2008\n",
        "# encodage du temps ref https://ianlondon.github.io/blog/encoding-cyclical-features-24hour-time/:\n",
        "combined_df['day_sin'] = np.sin(2 * np.pi * combined_df['DateTime'].dt.dayofweek / 7)\n",
        "combined_df['day_cos'] = np.cos(2 * np.pi * combined_df['DateTime'].dt.dayofweek / 7)\n",
        "combined_df['hour_sin'] = np.sin(2 * np.pi * combined_df['DateTime'].dt.hour / 24)\n",
        "combined_df['hour_cos'] = np.cos(2 * np.pi * combined_df['DateTime'].dt.hour / 24)\n",
        "combined_df['minute_sin'] = np.sin(2 * np.pi * combined_df['DateTime'].dt.minute / 60)\n",
        "combined_df['minute_cos'] = np.cos(2 * np.pi * combined_df['DateTime'].dt.minute / 60)\n",
        "combined_df['second_sin'] = np.sin(2 * np.pi * combined_df['DateTime'].dt.second / 60)\n",
        "combined_df['second_cos'] = np.cos(2 * np.pi * combined_df['DateTime'].dt.second / 60)\n",
        "combined_df['microsecond_sin'] = np.sin(2 * np.pi * combined_df['DateTime'].dt.microsecond / 1000000)\n",
        "combined_df['microsecond_cos'] = np.cos(2 * np.pi * combined_df['DateTime'].dt.microsecond / 1000000)\n",
        "\n",
        "# Drop the original 'DateTime' column if desired\n",
        "combined_df.drop('DateTime', axis=1, inplace=True)"
      ],
      "metadata": {
        "id": "3GyFR24ph5rX"
      },
      "execution_count": null,
      "outputs": []
    },
    {
      "cell_type": "code",
      "source": [
        "# encodage du sensorID\n",
        "\n",
        "# Extract the sensor category and number\n",
        "combined_df['SensorCategory'] = combined_df['SensorID'].str[0]\n",
        "combined_df['SensorNumber'] = combined_df['SensorID'].str[1:].astype(int)\n",
        "\n",
        "# One-hot encode the sensor category\n",
        "category_encoded = pd.get_dummies(combined_df['SensorCategory'], prefix='SensorCategory')\n",
        "\n",
        "# One-hot encode the sensor number\n",
        "number_encoded = pd.get_dummies(combined_df['SensorNumber'].astype(str), prefix='SensorNumber')\n",
        "\n",
        "# Concatenate the encoded columns with the original DataFrame\n",
        "df_encoded = pd.concat([combined_df, category_encoded, number_encoded], axis=1)\n",
        "\n",
        "# Remove the original columns\n",
        "df_encoded = df_encoded.drop(columns=['SensorCategory', 'SensorNumber','SensorID'])\n"
      ],
      "metadata": {
        "id": "wEB4FZtc0fTc"
      },
      "execution_count": null,
      "outputs": []
    },
    {
      "cell_type": "code",
      "source": [
        "# Convert NaN values in ResidentID2 to a specific identifier\n",
        "df_encoded['ResidentID2'] = df_encoded['ResidentID2'].fillna('NaN')\n",
        "\n",
        "# Concatenate the two ResidentID columns into a single column\n",
        "df_encoded['CombinedResidentID'] = df_encoded['ResidentID1'].astype(str) + '_' + df_encoded['ResidentID2'].astype(str)\n",
        "\n",
        "# One-hot encode the combined column\n",
        "encoded_resident_ids = pd.get_dummies(df_encoded['CombinedResidentID'], prefix='ResidentID')\n",
        "\n",
        "# Concatenate the encoded columns with the original DataFrame\n",
        "df_encoded = pd.concat([df_encoded, encoded_resident_ids], axis=1)\n",
        "\n",
        "# Remove the original columns\n",
        "df_encoded = df_encoded.drop(columns=['ResidentID1', 'ResidentID2', 'CombinedResidentID'])"
      ],
      "metadata": {
        "id": "pPW6adoUIsWL"
      },
      "execution_count": null,
      "outputs": []
    },
    {
      "cell_type": "code",
      "source": [
        "# same process for taskIDs\n",
        "# Convert NaN values in TaskID2 to a specific identifier\n",
        "df_encoded['TaskID2'] = df_encoded['TaskID2'].fillna('NaN')\n",
        "\n",
        "# Concatenate the two ResidentID columns into a single column\n",
        "df_encoded['CombinedTaskID'] = df_encoded['TaskID1'].astype(str) + '_' + df_encoded['TaskID2'].astype(str)\n",
        "\n",
        "# One-hot encode the combined column\n",
        "encoded_task_ids = pd.get_dummies(df_encoded['CombinedTaskID'], prefix='TaskID')\n",
        "\n",
        "# Concatenate the encoded columns with the original DataFrame\n",
        "df_encoded = pd.concat([df_encoded, encoded_task_ids], axis=1)\n",
        "\n",
        "# Remove the original columns\n",
        "df_encoded = df_encoded.drop(columns=['TaskID1', 'TaskID2', 'CombinedTaskID'])"
      ],
      "metadata": {
        "id": "vCIeE5YrI5md"
      },
      "execution_count": null,
      "outputs": []
    },
    {
      "cell_type": "code",
      "source": [
        "# One-hot encode the value column\n",
        "encoded_values = pd.get_dummies(df_encoded['Value'], prefix='Value')\n",
        "# Concatenate the encoded columns with the original DataFrame\n",
        "df_encoded = pd.concat([df_encoded, encoded_values], axis=1)\n",
        "# Remove the original columns\n",
        "df_encoded = df_encoded.drop(columns=['Value'])"
      ],
      "metadata": {
        "id": "H29u9lm4GM1l"
      },
      "execution_count": null,
      "outputs": []
    },
    {
      "cell_type": "code",
      "source": [
        "#drop the rows where ResidentID_1.0_1.0 and ResidentID_2.0_2.0 are 1 which is impossible in real life (same person doing two tasks at the same time)\n",
        "df_encoded = df_encoded.drop((df_encoded[(df_encoded['ResidentID_1.0_1.0'] == 1) | (df_encoded['ResidentID_2.0_2.0'] == 1)]).index)"
      ],
      "metadata": {
        "id": "0zo6jBtoWJvd"
      },
      "execution_count": null,
      "outputs": []
    },
    {
      "cell_type": "code",
      "source": [
        "# drop the columns where the column sum is 0 as results of the precedent droppings:\n",
        "column_sums = df_encoded.sum()\n",
        "zero_sum_columns = column_sums[column_sums == 0].index\n",
        "df_encoded = df_encoded.drop(zero_sum_columns, axis=1)"
      ],
      "metadata": {
        "id": "9oJJTLgBaVth"
      },
      "execution_count": null,
      "outputs": []
    },
    {
      "cell_type": "code",
      "source": [
        "df_encoded.to_excel(\"données_filtrées.xlsx\")"
      ],
      "metadata": {
        "id": "a4OlARjHldFt"
      },
      "execution_count": null,
      "outputs": []
    },
    {
      "cell_type": "code",
      "source": [
        "target_columns = list(x for x in encoded_resident_ids.columns.append(encoded_task_ids.columns) if x in list(df_encoded.columns))\n",
        "input_columns = [x for x in list(df_encoded.columns) if x not in target_columns]"
      ],
      "metadata": {
        "id": "WvR6JzkWT0Ln"
      },
      "execution_count": null,
      "outputs": []
    },
    {
      "cell_type": "code",
      "source": [
        "data_train, data_test = train_test_split(df_encoded, test_size=0.4,shuffle=False)\n",
        "X_train, y_train = data_train[input_columns], data_train[target_columns]\n",
        "X_test, y_test = data_test[input_columns], data_test[target_columns]"
      ],
      "metadata": {
        "id": "PTFKBbLzOM2S"
      },
      "execution_count": null,
      "outputs": []
    },
    {
      "cell_type": "code",
      "source": [],
      "metadata": {
        "id": "LfkkAvdnlXAR"
      },
      "execution_count": null,
      "outputs": []
    },
    {
      "cell_type": "code",
      "source": [
        "from sklearn.metrics import recall_score\n",
        "from sklearn.utils import check_random_state\n",
        "# Set the seed value for Python's random number generator\n",
        "seed = 42\n",
        "random.seed(seed)\n",
        "\n",
        "# Set the seed value for NumPy's random number generator\n",
        "np.random.seed(seed)\n",
        "\n",
        "# Set the seed value for PyTorch's random number generator\n",
        "torch.manual_seed(seed)\n",
        "torch.cuda.manual_seed_all(seed)\n",
        "torch.backends.cudnn.deterministic = True\n",
        "torch.backends.cudnn.benchmark = False\n",
        "\n",
        "# Set the seed value for Scikit-learn's random number generator\n",
        "check_random_state(seed)\n",
        "\n",
        "\n",
        "model_configs = [\n",
        "    {'hidden_layers': [32]},\n",
        "    {'hidden_layers': [64]},\n",
        "    {'hidden_layers': [96]},\n",
        "    {'hidden_layers': [128]}, c\n",
        "    {'hidden_layers': [128, 256, 128]},\n",
        "    {'hidden_layers': [96, 128, 96]},\n",
        "    {'hidden_layers': [256, 256, 128, 64]},\n",
        "    {'hidden_layers': [64,128, 256, 128,64]},\n",
        "    {'hidden_layers': [512, 256, 128, 64]},\n",
        "    {'hidden_layers': [512, 512, 256, 128, 64]},\n",
        "    {'hidden_layers': [1024, 1024, 512, 128, 64]},\n",
        "    {'hidden_layers': [128,512,1024, 1024,1024, 1024, 512, 128]},\n",
        "    {'hidden_layers': [4096, 2048, 1024, 512, 128, 64]},\n",
        "    {'hidden_layers': [4096, 4096, 2048, 2048, 512, 512,512,128]},\n",
        "    {'hidden_layers': [128, 512, 2048, 4096, 2048,512,128]},\n",
        "    {'hidden_layers': [64,128, 512, 2048, 4096, 2048,512,128,64]},\n",
        "]\n",
        "\n",
        "results = []  # To store the performance results for each model\n",
        "f1_global = 0\n",
        "for config in model_configs:\n",
        "    # Define your DNN model\n",
        "    class DNN(nn.Module):\n",
        "        def __init__(self, input_shape,output_shape, hidden_layers):\n",
        "            super(DNN, self).__init__()\n",
        "            layers = []\n",
        "            layers.append(nn.Linear(input_shape, hidden_layers[0]))\n",
        "            layers.append(nn.ReLU())\n",
        "            for i in range(len(hidden_layers) - 1):\n",
        "                layers.append(nn.Linear(hidden_layers[i], hidden_layers[i + 1]))\n",
        "                layers.append(nn.ReLU())\n",
        "            layers.append(nn.Linear(hidden_layers[-1], output_shape))\n",
        "            layers.append(nn.Sigmoid())\n",
        "            self.model = nn.Sequential(*layers)\n",
        "\n",
        "        def forward(self, x):\n",
        "            return self.model(x)\n",
        "\n",
        "    model = DNN(input_shape=len(input_columns),output_shape=len(target_columns), hidden_layers=config['hidden_layers'])\n",
        "    model.to(torch.device(\"cuda\"))\n",
        "\n",
        "    # Convert the data to PyTorch tensors and move to the GPU\n",
        "    X_train_torch = torch.tensor(X_train.values, dtype=torch.float32).to(torch.device(\"cuda\"))\n",
        "    y_train_torch = torch.tensor(y_train.values, dtype=torch.float32).to(torch.device(\"cuda\"))\n",
        "    X_test_torch = torch.tensor(X_test.values, dtype=torch.float32).to(torch.device(\"cuda\"))\n",
        "    y_test_torch = torch.tensor(y_test.values, dtype=torch.float32).to(torch.device(\"cuda\"))\n",
        "\n",
        "    # Define the loss function and optimizer\n",
        "    criterion = nn.BCELoss()\n",
        "    optimizer = optim.Adam(model.parameters(), lr=0.001)\n",
        "\n",
        "    # Train the model\n",
        "    num_epochs = 500\n",
        "    train_losses = []\n",
        "    val_losses = []\n",
        "    f1best = 0\n",
        "\n",
        "    for epoch in range(num_epochs):\n",
        "        model.train()\n",
        "        optimizer.zero_grad()\n",
        "        outputs = model(X_train_torch)\n",
        "        loss = criterion(outputs, y_train_torch)\n",
        "        loss.backward()\n",
        "        optimizer.step()\n",
        "        train_losses.append(loss.item())\n",
        "\n",
        "        model.eval()\n",
        "        with torch.no_grad():\n",
        "            y_pred = model(X_test_torch)\n",
        "            val_loss = criterion(y_pred, y_test_torch)\n",
        "            val_losses.append(val_loss.item())\n",
        "            y_pred_binary = torch.round(y_pred)\n",
        "            accuracy = torch.mean((y_pred_binary == y_test_torch).float()).item()\n",
        "            true_positives = torch.sum(y_pred_binary * y_test_torch).item()\n",
        "            recall = recall_score(y_test, y_pred_binary.cpu().numpy(), average='micro')\n",
        "            predicted_positives = torch.sum(y_pred_binary).item()\n",
        "            precision = true_positives / predicted_positives if predicted_positives != 0 else 0.0\n",
        "            f1 = f1_score(y_test, y_pred_binary.cpu().numpy(), average='micro')\n",
        "            if f1> f1best:\n",
        "                  f1best = f1\n",
        "                  for result in results:\n",
        "                         if result['config'] == config:\n",
        "                           results.remove(result)\n",
        "                  results.append({'config': config, 'accuracy': accuracy, 'precision': precision, 'recall': recall, 'f1_score': f1,'iteration':epoch})\n",
        "            if f1> f1_global :\n",
        "              f1_global = f1\n",
        "              torch.save(model.state_dict(),'best_model_weights.pth')\n",
        "\n",
        "    # Plot the training and validation loss over epochs\n",
        "    plt.plot(range(1, num_epochs + 1), train_losses, label='Training Loss')\n",
        "    plt.plot(range(1, num_epochs + 1), val_losses, label='Validation Loss')\n",
        "    plt.xlabel('Epochs')\n",
        "    plt.ylabel('Loss')\n",
        "    plt.title('Model Configuration: {}'.format(config))\n",
        "    plt.legend()\n",
        "    plt.show()\n",
        "\n",
        "# Find the best model based on F1 score\n",
        "best_model = max(results, key=lambda x: x['f1_score'])\n",
        "\n",
        "# Print the performance results for each model\n",
        "for result in results:\n",
        "    print('Model Configuration:', result['config'])\n",
        "    print('Accuracy:', result['accuracy'])\n",
        "    print('Precision:', result['precision'])\n",
        "    print('Recall:', result['recall'])\n",
        "    print('F1 Score:', result['f1_score'])\n",
        "    print('at iteration:', result['iteration'])\n",
        "    print('-' * 50)\n",
        "\n",
        "print('Best Model Configuration:', best_model['config'])\n",
        "print('Best Accuracy:', best_model['accuracy'])\n",
        "print('Best Precision:', best_model['precision'])\n",
        "print('Best Recall:', best_model['recall'])\n",
        "print('Best F1 Score:', best_model['f1_score'])\n",
        "print('at iteration:', best_model['iteration'])"
      ],
      "metadata": {
        "id": "AQJrrC-rrm9K"
      },
      "execution_count": null,
      "outputs": []
    }
  ]
}